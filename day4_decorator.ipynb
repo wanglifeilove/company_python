{
 "cells": [
  {
   "cell_type": "markdown",
   "metadata": {},
   "source": [
    "# 关于装饰器"
   ]
  },
  {
   "cell_type": "code",
   "execution_count": 3,
   "metadata": {},
   "outputs": [
    {
     "name": "stdout",
     "output_type": "stream",
     "text": [
      "in the foo\n",
      "in the bar\n"
     ]
    }
   ],
   "source": [
    "#文中所说的资源来自oldboy:附上百度网盘地址： 代号视频页码oldboyday_4\n",
    "#装饰器：本质是函数（为其他函数添加附加功能）\n",
    "#原则：1.不能修改被装饰函数的源代码\n",
    "#     2.不能修改被装饰函数的调用方式\n",
    "#实现装饰器知识储备1.函数即变量2.高阶函数3.嵌套函数\n",
    "\n",
    "# 装饰器 = 高阶函数 + 嵌套函数\n",
    "def foo():\n",
    "    print(\"in the foo\")\n",
    "    bar()\n",
    "def bar():\n",
    "    print(\"in the bar\")\n",
    "foo()\n"
   ]
  },
  {
   "cell_type": "code",
   "execution_count": 8,
   "metadata": {},
   "outputs": [
    {
     "name": "stdout",
     "output_type": "stream",
     "text": [
      "in the bar\n",
      "the func running time is:3.0000641345977783\n"
     ]
    }
   ],
   "source": [
    "import time\n",
    "def bar():\n",
    "    time.sleep(3)\n",
    "    print(\"in the bar\")\n",
    "    \n",
    "def test(func):\n",
    "    start_time = time.time()\n",
    "    func()\n",
    "    stop_time = time.time()\n",
    "    print(\"the func running time is:%s\"%(stop_time-start_time))\n",
    "\n",
    "#bar()\n",
    "#test(bar)#1,遵守不修改被装饰源代码，但是更改了调用方式\n",
    "test(bar)"
   ]
  },
  {
   "cell_type": "code",
   "execution_count": 9,
   "metadata": {},
   "outputs": [
    {
     "name": "stdout",
     "output_type": "stream",
     "text": [
      "<function bar at 0x01603A98>\n",
      "in the bar\n"
     ]
    }
   ],
   "source": [
    "#第二种演示方法就是所说的要遵守调用方式（用高阶函数）\n",
    "def bar():\n",
    "    time.sleep(3)\n",
    "    print(\"in the bar\")\n",
    "def test2(func):\n",
    "    print(func)\n",
    "    return func\n",
    "\n",
    "bar = test2(bar)\n",
    "bar()"
   ]
  },
  {
   "cell_type": "code",
   "execution_count": 15,
   "metadata": {},
   "outputs": [
    {
     "name": "stdout",
     "output_type": "stream",
     "text": [
      "in the foo\n",
      "in the bar\n",
      "3\n"
     ]
    }
   ],
   "source": [
    "#嵌套函数\n",
    "def foo():\n",
    "    print(\"in the foo\")\n",
    "    def bar():\n",
    "        print(\"in the bar\")\n",
    "    bar()\n",
    "foo()\n",
    "#嵌套函数作用域\n",
    "x = 0\n",
    "def grandfa():\n",
    "    x = 1\n",
    "    def father():\n",
    "        x = 2\n",
    "        def son():\n",
    "            x = 3\n",
    "            print(x)\n",
    "        son()\n",
    "    father()\n",
    "grandfa()\n",
    "#作用域只能从里往外找\n",
    "\n",
    "\n"
   ]
  },
  {
   "cell_type": "markdown",
   "metadata": {},
   "source": [
    "# 实战 写一个装饰器"
   ]
  },
  {
   "cell_type": "code",
   "execution_count": 18,
   "metadata": {},
   "outputs": [
    {
     "name": "stdout",
     "output_type": "stream",
     "text": [
      "in the test1\n",
      "in the test2\n"
     ]
    }
   ],
   "source": [
    "import time\n",
    "\n",
    "def deco(func):\n",
    "    start_time = time.time()\n",
    "    return func\n",
    "    stop_time = time.time()\n",
    "    print(\"the func running time is:%s\"%(stop_time-start_time))\n",
    "def test1():\n",
    "    time.sleep(3)\n",
    "    print(\"in the test1\")\n",
    "def test2():\n",
    "    time.sleep(3)\n",
    "    print(\"in the test2\")\n",
    "\n",
    "test1 = deco(test1)\n",
    "test2 = deco(test2)\n",
    "test1()\n",
    "test2()# 需要嵌套函数，这个程序没有执行time running"
   ]
  },
  {
   "cell_type": "code",
   "execution_count": 23,
   "metadata": {},
   "outputs": [
    {
     "name": "stdout",
     "output_type": "stream",
     "text": [
      "in the test1\n",
      "the func running time is:3.0001566410064697\n",
      "in the test2\n",
      "the func running time is:3.004585027694702\n"
     ]
    }
   ],
   "source": [
    "import time\n",
    "def timer(func):#嵌套函数 func = test1\n",
    "    def deco():\n",
    "        start_time = time.time()\n",
    "        func() # 执行 test1\n",
    "        stop_time = time.time()\n",
    "        print(\"the func running time is:%s\"%(stop_time-start_time))\n",
    "    return deco\n",
    "@timer #直接调用test1() 就是说  test1 = timer(test1)\n",
    "def test1():\n",
    "    time.sleep(3)\n",
    "    print(\"in the test1\")\n",
    "@timer\n",
    "def test2():\n",
    "    time.sleep(3)\n",
    "    print(\"in the test2\")\n",
    "\n",
    "#test1 = timer(test1)\n",
    "#test2 = timer(test2)\n",
    "test1()\n",
    "test2()\n",
    "    "
   ]
  },
  {
   "cell_type": "code",
   "execution_count": 29,
   "metadata": {},
   "outputs": [
    {
     "name": "stdout",
     "output_type": "stream",
     "text": [
      "in the test1\n",
      "the func running time is:3.000157117843628\n",
      "in the test2: wang 22\n",
      "the func running time is:3.0054690837860107\n"
     ]
    }
   ],
   "source": [
    "#加入test2有参数情况下运行此程序是要报错的\n",
    "import time\n",
    "def timer(func):#嵌套函数 func = test1   deco = test1ortest2\n",
    "    def deco(*args,**kwargs):#添加非固定参数\n",
    "        start_time = time.time()\n",
    "        func(*args,**kwargs) # 执行 test1\n",
    "        stop_time = time.time()\n",
    "        print(\"the func running time is:%s\"%(stop_time-start_time))\n",
    "    return deco\n",
    "@timer #直接调用test1() 就是说  test1 = timer(test1)\n",
    "def test1():\n",
    "    time.sleep(3)\n",
    "    print(\"in the test1\")\n",
    "@timer\n",
    "def test2(name,age):\n",
    "    time.sleep(3)\n",
    "    print(\"in the test2:\",name,age)\n",
    "\n",
    "#test1 = timer(test1)\n",
    "#test2 = timer(test2)\n",
    "test1()\n",
    "test2('wang',22)"
   ]
  },
  {
   "cell_type": "markdown",
   "metadata": {
    "collapsed": true
   },
   "source": [
    "# day5"
   ]
  },
  {
   "cell_type": "code",
   "execution_count": null,
   "metadata": {
    "collapsed": true
   },
   "outputs": [],
   "source": [
    "\"\"\"本节笔记\n",
    "  推荐电影：1.阿甘正传\n",
    "          2.希特勒名单\n",
    "          3.勇敢的心\n",
    "          4.角斗士\n",
    "          5.美国丽人\n",
    "          6.教父\n",
    "          7.指环王\n",
    "          8.钢琴师\n",
    "          9.血钻\n",
    "          10.战争之王\n",
    "          11.上帝之城\n",
    "          12。华尔街之王\"\"\"\n",
    "\n",
    "\n",
    "\n",
    "\n"
   ]
  }
 ],
 "metadata": {
  "kernelspec": {
   "display_name": "Python 3",
   "language": "python",
   "name": "python3"
  },
  "language_info": {
   "codemirror_mode": {
    "name": "ipython",
    "version": 3
   },
   "file_extension": ".py",
   "mimetype": "text/x-python",
   "name": "python",
   "nbconvert_exporter": "python",
   "pygments_lexer": "ipython3",
   "version": "3.6.3"
  }
 },
 "nbformat": 4,
 "nbformat_minor": 2
}
