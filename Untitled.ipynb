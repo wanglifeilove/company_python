{
 "cells": [
  {
   "cell_type": "markdown",
   "metadata": {},
   "source": [
    "## nltk"
   ]
  },
  {
   "cell_type": "code",
   "execution_count": 1,
   "metadata": {
    "collapsed": true
   },
   "outputs": [],
   "source": [
    "speech_text = '''\"fire and fury\" on the isolated state if it continued to threaten the US or its allies, was relatively muted in responding to Kim Jong Un's latest provocation.\n",
    "\"I will only tell you that we will take care of it. ... It is a situation that we will handle,\" Trump told reporters at the White House.\n",
    "\n",
    "Trump on North Korean missile launch: 'We will take care of it'\n",
    "He later attempted to tie the launch to domestic politics, using it to pressure Democrats to move ahead on government spending proposals.\n",
    "\"After North Korea missile launch, it's more important than ever to fund our gov't & military! Dems shouldn't hold troop funding hostage for amnesty & illegal immigration. I ran on stopping illegal immigration and won big. They can't now threaten a shutdown to get their demands,\" he tweeted.\n",
    "After North Korea missile launch, it's more important than ever to fund our gov't & military! Dems shouldn't hold troop funding hostage for amnesty & illegal immigration. I ran on stopping illegal immigration and won big. They can't now threaten a shutdown to get their demands.— Donald J. Trump (@realDonaldTrump) November 29, 2017\n",
    "His quiet resolve may have been calculated to avoid further provoking Kim, or to deprive him of the full propaganda value of his latest move -- if so, this would represent an evolution in the President's public rhetoric on the crisis.\n",
    "But Trump's vague and unspecific response also reflected the paucity of options he has to deal with North Korea, and how the most serious foreign-policy threat facing his presidency is becoming ever more grave.\n",
    "Serious escalation\n",
    "\n",
    "Graham warns of war with North Korea 01:42\n",
    "It's clear that Tuesday's launch of an intercontinental missile that blasted off from Sain Ni in North Korea and, according to Defense Secretary James Mattis, went higher \"than any previous shot they've taken\" represents a serious escalation of the crisis.\n",
    "To begin with, the test flight demonstrated Pyongyang's theoretical ability to hit targets as far away as Washington.\n",
    "As such, it brings Trump ever closer to an agonizing dilemma: If diplomacy continues to fail, it could require one of the most consequential decisions on military action taken by a president since the end of World War II.\n",
    "He would either have to accept the notion that North Korea could tip an intercontinental ballistic missile with a nuclear payload and hit the US homeland, or he would have to contemplate military action to dismantle, in the knowledge that doing so could kill thousands of civilians and US troops in Asia and has long been deemed unthinkable.\n",
    "\"We are within a year away from North Korea completing its nuclear program,\" said Sue Mi Terry, a former CIA North Korea analyst who is now at the Center for Strategic and International Studies.\n",
    "\"I am afraid this is their goal,\" said Terry on CNN International.\n",
    "Republican Sen. Lindsey Graham, who has spoken in depth with Trump on the nuclear showdown, delivered a dire warning about the consequences of North Korea's current path -- conscious that top regime officials watch CNN.\n",
    "\"If we have to go to war to stop this, we will,\" Graham told CNN's Wolf Blitzer on \"The Situation Room.\" \"We're headed towards a war if things don't change.\"\n",
    "Graham also implored regional powers, such as China, and allies like South Korea and Japan to find a solution to the crisis, admitting that hundreds of thousands of people in Asia could die in a war with North Korea, though the US would win.\n",
    "\"If President Trump has to pick between destroying the North Korean regime and the American homeland, he's going to destroy the regime,\" he said.\n",
    "In a further sign of the deepening emergency, and in a chilling echo of a previous Cold War age, Hawaii prepared to test its air attack warning siren system, for the first time in a quarter of a century.\n",
    "Tough questions\n",
    "\n",
    "Pentagon: North Korea launches missile 02:31\n",
    "Strategically, Tuesday's missile test left Washington with tough questions.\n",
    "For instance, the nighttime dispatch of the missile at short notice might have been calculated to show the US that North Korea's forces could outwit any future American attempts to hit a nuclear missile on the launchpad.\n",
    "It appears to dampen several hopeful interpretations of the recent pause in Pyongyang's missile tests, including the suggestion that Kim was sending a signal he was ready to negotiate with the US.\n",
    "'''"
   ]
  },
  {
   "cell_type": "code",
   "execution_count": 8,
   "metadata": {},
   "outputs": [
    {
     "ename": "NameError",
     "evalue": "name 'speech_text' is not defined",
     "output_type": "error",
     "traceback": [
      "\u001b[1;31m---------------------------------------------------------------------------\u001b[0m",
      "\u001b[1;31mNameError\u001b[0m                                 Traceback (most recent call last)",
      "\u001b[1;32m<ipython-input-8-ee982361c2ca>\u001b[0m in \u001b[0;36m<module>\u001b[1;34m()\u001b[0m\n\u001b[1;32m----> 1\u001b[1;33m \u001b[0mspeech\u001b[0m \u001b[1;33m=\u001b[0m \u001b[0mspeech_text\u001b[0m\u001b[1;33m.\u001b[0m\u001b[0msplit\u001b[0m\u001b[1;33m(\u001b[0m\u001b[1;33m)\u001b[0m\u001b[1;33m\u001b[0m\u001b[0m\n\u001b[0m",
      "\u001b[1;31mNameError\u001b[0m: name 'speech_text' is not defined"
     ]
    }
   ],
   "source": [
    "speech = speech_text.split()"
   ]
  },
  {
   "cell_type": "code",
   "execution_count": 10,
   "metadata": {},
   "outputs": [
    {
     "ename": "NameError",
     "evalue": "name 'speech' is not defined",
     "output_type": "error",
     "traceback": [
      "\u001b[1;31m---------------------------------------------------------------------------\u001b[0m",
      "\u001b[1;31mNameError\u001b[0m                                 Traceback (most recent call last)",
      "\u001b[1;32m<ipython-input-10-8b5c092785ec>\u001b[0m in \u001b[0;36m<module>\u001b[1;34m()\u001b[0m\n\u001b[1;32m----> 1\u001b[1;33m \u001b[0mspeech\u001b[0m\u001b[1;33m\u001b[0m\u001b[0m\n\u001b[0m",
      "\u001b[1;31mNameError\u001b[0m: name 'speech' is not defined"
     ]
    }
   ],
   "source": [
    "speech"
   ]
  },
  {
   "cell_type": "code",
   "execution_count": null,
   "metadata": {
    "collapsed": true
   },
   "outputs": [],
   "source": []
  }
 ],
 "metadata": {
  "kernelspec": {
   "display_name": "Python 3",
   "language": "python",
   "name": "python3"
  },
  "language_info": {
   "codemirror_mode": {
    "name": "ipython",
    "version": 3
   },
   "file_extension": ".py",
   "mimetype": "text/x-python",
   "name": "python",
   "nbconvert_exporter": "python",
   "pygments_lexer": "ipython3",
   "version": "3.6.3"
  }
 },
 "nbformat": 4,
 "nbformat_minor": 2
}
